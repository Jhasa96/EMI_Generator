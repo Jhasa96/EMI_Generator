{
 "cells": [
  {
   "cell_type": "markdown",
   "id": "2b1e8e4c-a05a-4507-ae93-8b1bb7b5545a",
   "metadata": {},
   "source": [
    "## Read Me\n",
    "Please Enter the Loan Parameter, It will generate the loan Schedule\n"
   ]
  },
  {
   "cell_type": "code",
   "execution_count": 22,
   "id": "49c56a8f-160e-480c-a76b-d8fc90d7409e",
   "metadata": {},
   "outputs": [
    {
     "name": "stdin",
     "output_type": "stream",
     "text": [
      "Enter the Loan Amount :  100000\n",
      "Enter the Intrest rate/Annumn(number) :  10.5\n",
      "Enter tenure in months :  24\n",
      "Enter the laon Start Date (YYYY-MM_DD) :  2024-01-08\n"
     ]
    },
    {
     "name": "stdout",
     "output_type": "stream",
     "text": [
      "Your monthly EMI is 4637.6\n",
      "Total Intrest to be paid for 24 months is 11302.529999999999\n",
      "    No of EMI  EMI Date   Balance  Intrest  Principal  EMI to be Paid\n",
      "0           1  24-02-08  96237.40   875.00    3762.60          4637.6\n",
      "1           2  24-03-08  92441.88   842.08    3795.52          4637.6\n",
      "2           3  24-04-08  88613.15   808.87    3828.73          4637.6\n",
      "3           4  24-05-08  84750.92   775.37    3862.23          4637.6\n",
      "4           5  24-06-08  80854.89   741.57    3896.03          4637.6\n",
      "5           6  24-07-08  76924.77   707.48    3930.12          4637.6\n",
      "6           7  24-08-08  72960.26   673.09    3964.51          4637.6\n",
      "7           8  24-09-08  68961.06   638.40    3999.20          4637.6\n",
      "8           9  24-10-08  64926.87   603.41    4034.19          4637.6\n",
      "9          10  24-11-08  60857.38   568.11    4069.49          4637.6\n",
      "10         11  24-12-08  56752.28   532.50    4105.10          4637.6\n",
      "11         12  25-01-08  52611.26   496.58    4141.02          4637.6\n",
      "12         13  25-02-08  48434.01   460.35    4177.25          4637.6\n",
      "13         14  25-03-08  44220.21   423.80    4213.80          4637.6\n",
      "14         15  25-04-08  39969.54   386.93    4250.67          4637.6\n",
      "15         16  25-05-08  35681.67   349.73    4287.87          4637.6\n",
      "16         17  25-06-08  31356.28   312.21    4325.39          4637.6\n",
      "17         18  25-07-08  26993.05   274.37    4363.23          4637.6\n",
      "18         19  25-08-08  22591.64   236.19    4401.41          4637.6\n",
      "19         20  25-09-08  18151.72   197.68    4439.92          4637.6\n",
      "20         21  25-10-08  13672.95   158.83    4478.77          4637.6\n",
      "21         22  25-11-08   9154.99   119.64    4517.96          4637.6\n",
      "22         23  25-12-08   4597.50    80.11    4557.49          4637.6\n",
      "23         24  26-01-08      0.13    40.23    4597.37          4637.6\n"
     ]
    }
   ],
   "source": [
    "import pandas as pd\n",
    "\n",
    "#Loan Parameter\n",
    "\n",
    "Principal = float(input(\"Enter the Loan Amount : \"))\n",
    "Intrest_rate = float(input(\"Enter the Intrest rate/Annumn(number) : \"))\n",
    "tenure = int(input(\"Enter tenure in months : \"))\n",
    "Startdate = input(\"Enter the laon Start Date (YYYY-MM_DD) : \")\n",
    "\n",
    "#For loan calculation\n",
    "\n",
    "def loan_emi_calculation(Principal, Intrest_rate, tenure) :\n",
    "    r = (Intrest_rate/12)/100\n",
    "    EMI = (Principal*r*((1+r)**tenure))/(((1+r)**tenure)-1)\n",
    "    return round(EMI,2)\n",
    "\n",
    "EMI_c = loan_emi_calculation(Principal, Intrest_rate, tenure)\n",
    "\n",
    "\n",
    "#loan Schedule\n",
    "def loan_schedule(Principal, Intrest_rate, tenure, Startdate) :\n",
    "    monthly_emi = loan_emi_calculation(Principal, Intrest_rate, tenure)\n",
    "    r = (Intrest_rate/12)/100\n",
    "    remain_balance = Principal\n",
    "\n",
    "    schedule = []\n",
    "    for month in range(1,tenure+1) :\n",
    "        Intre = round(remain_balance*r,2)\n",
    "        principal_paid = round(monthly_emi-Intre,2)\n",
    "        remain_balance = round(remain_balance-principal_paid,2)\n",
    "        emi_date = pd.to_datetime(Startdate) + pd.DateOffset(months=month)\n",
    "\n",
    "        schedule.append({\n",
    "            \"No of EMI\" : month,\n",
    "            \"EMI Date\" : emi_date.strftime(\"%y-%m-%d\"),\n",
    "            \"Balance\" : remain_balance,\n",
    "            \"Intrest\" : Intre,\n",
    "            \"Principal\" : principal_paid,\n",
    "            \"EMI to be Paid\" : monthly_emi\n",
    "        })\n",
    "    return schedule\n",
    "\n",
    "card = loan_schedule(Principal, Intrest_rate, tenure, Startdate)\n",
    "\n",
    "loan_card = pd.DataFrame(card)\n",
    "\n",
    "Total_Intrest = loan_card['Intrest'].sum()\n",
    "\n",
    "print(f\"Your monthly EMI is {EMI_c}\")\n",
    "print(f\"Total Intrest to be paid for {tenure} months is {Total_Intrest}\")\n",
    "print(loan_card)\n"
   ]
  },
  {
   "cell_type": "code",
   "execution_count": null,
   "id": "8a462878-cf9a-400a-9958-e5b2a9f30ce0",
   "metadata": {},
   "outputs": [],
   "source": []
  }
 ],
 "metadata": {
  "kernelspec": {
   "display_name": "Python 3 (ipykernel)",
   "language": "python",
   "name": "python3"
  },
  "language_info": {
   "codemirror_mode": {
    "name": "ipython",
    "version": 3
   },
   "file_extension": ".py",
   "mimetype": "text/x-python",
   "name": "python",
   "nbconvert_exporter": "python",
   "pygments_lexer": "ipython3",
   "version": "3.12.7"
  }
 },
 "nbformat": 4,
 "nbformat_minor": 5
}
